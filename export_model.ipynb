{
 "cells": [
  {
   "cell_type": "markdown",
   "metadata": {},
   "source": [
    "Let's export the trained model in safetensor formats for compatibility with downstream inference engines. First, we'll define some variables."
   ]
  },
  {
   "cell_type": "code",
   "execution_count": 1,
   "metadata": {},
   "outputs": [],
   "source": [
    "model_name = \"NoPE-GPT-Small-Base\"\n",
    "checkpoint_path = \"./checkpoints/checkpoint.pt\"\n",
    "lora_path = None\n",
    "exports_path = \"./exports\""
   ]
  },
  {
   "cell_type": "markdown",
   "metadata": {},
   "source": [
    "Then, we'll load the base model checkpoint into memory from disk."
   ]
  },
  {
   "cell_type": "code",
   "execution_count": 2,
   "metadata": {},
   "outputs": [
    {
     "name": "stdout",
     "output_type": "stream",
     "text": [
      "Base checkpoint loaded successfully\n"
     ]
    }
   ],
   "source": [
    "import torch\n",
    "\n",
    "from model import NoPEGPT\n",
    "\n",
    "checkpoint = torch.load(checkpoint_path, map_location=\"cpu\", weights_only=False)\n",
    "\n",
    "tokenizer = checkpoint[\"tokenizer\"]\n",
    "\n",
    "model = NoPEGPT(**checkpoint[\"model_args\"])\n",
    "\n",
    "state_dict = checkpoint[\"model\"]\n",
    "\n",
    "# Rename parameters to compensate for poorly designed compiled state dicts.\n",
    "for key in list(state_dict.keys()):\n",
    "    state_dict[key.replace(\"_orig_mod.\", \"\")] = state_dict.pop(key)\n",
    "\n",
    "model.load_state_dict(state_dict)\n",
    "\n",
    "print(\"Base checkpoint loaded successfully\")"
   ]
  },
  {
   "cell_type": "markdown",
   "metadata": {},
   "source": [
    "Now, we'll load any fine-tuned token embeddings and LoRA checkpoints we wish to incorporate into the exported model."
   ]
  },
  {
   "cell_type": "code",
   "execution_count": 3,
   "metadata": {},
   "outputs": [],
   "source": [
    "if lora_path is not None:\n",
    "    lora_checkpoint = torch.load(lora_path, map_location=\"cpu\", weights_only=False)\n",
    "\n",
    "    tokenizer = lora_checkpoint[\"tokenizer\"]\n",
    "\n",
    "    model = (\n",
    "        model.resize_token_embeddings(tokenizer.n_vocab)\n",
    "        .add_lora_parameters(**lora_checkpoint[\"lora_args\"])\n",
    "    )\n",
    "\n",
    "    model.token_embeddings.load_state_dict(lora_checkpoint[\"token_embeddings\"])\n",
    "    model.load_state_dict(lora_checkpoint[\"lora\"], strict=False)\n",
    "\n",
    "    model.merge_lora_parameters()\n",
    "\n",
    "    print(\"LoRA checkpoint loaded successfully\")"
   ]
  },
  {
   "cell_type": "markdown",
   "metadata": {},
   "source": [
    "Next, let's export the model in HuggingFace format so that it can be used with the HuggingFace ecosystem."
   ]
  },
  {
   "cell_type": "code",
   "execution_count": null,
   "metadata": {},
   "outputs": [
    {
     "name": "stdout",
     "output_type": "stream",
     "text": [
      "Model saved to ./exports/NoPE-GPT-Small-Base\n"
     ]
    }
   ],
   "source": [
    "from os import path\n",
    "\n",
    "from transformers.integrations.tiktoken import convert_tiktoken_to_fast\n",
    "from transformers import PreTrainedTokenizerFast, AutoConfig, AutoModelForCausalLM\n",
    "\n",
    "from model import NoPEGPTHuggingFaceConfig, NoPEGPTHuggingFaceModel\n",
    "\n",
    "hf_path = path.join(exports_path, model_name)\n",
    "\n",
    "convert_tiktoken_to_fast(tokenizer, hf_path)\n",
    "\n",
    "# Load tokenizer from disk to compensate for poor HuggingFace API design.\n",
    "hf_tokenizer = PreTrainedTokenizerFast(tokenizer_file=path.join(hf_path, \"tokenizer.json\"))\n",
    "\n",
    "AutoConfig.register(\"nope-gpt\", NoPEGPTHuggingFaceConfig)\n",
    "AutoModelForCausalLM.register(NoPEGPTHuggingFaceConfig, NoPEGPTHuggingFaceModel)\n",
    "\n",
    "NoPEGPTHuggingFaceConfig.register_for_auto_class()\n",
    "NoPEGPTHuggingFaceModel.register_for_auto_class(\"AutoModel\")\n",
    "\n",
    "hf_config = NoPEGPTHuggingFaceConfig(**checkpoint[\"model_args\"])\n",
    "\n",
    "hf_model = NoPEGPTHuggingFaceModel(hf_config)\n",
    "\n",
    "hf_model.model.load_state_dict(state_dict, strict=False)\n",
    "\n",
    "print(f\"Model saved to {hf_path}\")"
   ]
  },
  {
   "cell_type": "markdown",
   "metadata": {},
   "source": [
    "Lastly, we'll login to HuggingFaceHub and upload the model under our account."
   ]
  },
  {
   "cell_type": "code",
   "execution_count": 5,
   "metadata": {},
   "outputs": [
    {
     "data": {
      "application/vnd.jupyter.widget-view+json": {
       "model_id": "e55f063ebe5a489c99ab020dbfa469a1",
       "version_major": 2,
       "version_minor": 0
      },
      "text/plain": [
       "VBox(children=(HTML(value='<center> <img\\nsrc=https://huggingface.co/front/assets/huggingface_logo-noborder.sv…"
      ]
     },
     "metadata": {},
     "output_type": "display_data"
    },
    {
     "data": {
      "application/vnd.jupyter.widget-view+json": {
       "model_id": "594e830e3b0c4936b4f057b855866754",
       "version_major": 2,
       "version_minor": 0
      },
      "text/plain": [
       "README.md:   0%|          | 0.00/18.2k [00:00<?, ?B/s]"
      ]
     },
     "metadata": {},
     "output_type": "display_data"
    },
    {
     "name": "stderr",
     "output_type": "stream",
     "text": [
      "No files have been modified since last commit. Skipping to prevent empty commit.\n",
      "WARNING:huggingface_hub.hf_api:No files have been modified since last commit. Skipping to prevent empty commit.\n"
     ]
    },
    {
     "data": {
      "application/vnd.jupyter.widget-view+json": {
       "model_id": "5008c20068cd417090bc9765498965a2",
       "version_major": 2,
       "version_minor": 0
      },
      "text/plain": [
       "model.safetensors:   0%|          | 0.00/1.41G [00:00<?, ?B/s]"
      ]
     },
     "metadata": {},
     "output_type": "display_data"
    }
   ],
   "source": [
    "from huggingface_hub import notebook_login\n",
    "\n",
    "notebook_login()\n",
    "\n",
    "# Remove output layer reference to compensate for lack of tied weight support.\n",
    "state_dict = model.state_dict()\n",
    "state_dict = {k:v for k, v in state_dict.items() if \"output_layer\" not in k}\n",
    "\n",
    "hf_tokenizer.push_to_hub(model_name)\n",
    "hf_model.save_pretrained(hf_path, state_dict=state_dict, push_to_hub=True)"
   ]
  }
 ],
 "metadata": {
  "kernelspec": {
   "display_name": ".venv",
   "language": "python",
   "name": "python3"
  },
  "language_info": {
   "codemirror_mode": {
    "name": "ipython",
    "version": 3
   },
   "file_extension": ".py",
   "mimetype": "text/x-python",
   "name": "python",
   "nbconvert_exporter": "python",
   "pygments_lexer": "ipython3",
   "version": "3.12.3"
  }
 },
 "nbformat": 4,
 "nbformat_minor": 2
}
